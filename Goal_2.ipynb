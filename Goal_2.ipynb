{
 "cells": [
  {
   "cell_type": "markdown",
   "metadata": {},
   "source": [
    "<img src=\"https://i.imgur.com/36sp6u2.png\" align=\"middle\">"
   ]
  },
  {
   "cell_type": "markdown",
   "metadata": {},
   "source": [
    "<img src=\"https://cdn.sstatic.net/Sites/stackoverflow/company/img/logos/so/so-logo.png\" style=\"width:400px;height:80px;\" align=\"middle\">\n",
    "<h1><font color=\"blue\">Does Air Quailty Influence Crime?</font></h1>\n",
    "\n",
    "Goal 2:\n",
    "\n",
    "The second goal is to analyse the criminal activity in the three major cities and see if there is any correaltion with between the types of crime being committed and the different pollutants present in the air.\n",
    "\n",
    "From this, an analysis can then be conducted into the influence of different pollutants has on people's mental health and if there is a link to more aggressive behaviour in people who live in areas with high levels of pollutation resulting in increase crime.\n",
    "\n",
    "The information provided here may be used as a deciding factor for more investment by goverments into reducing the production of pollution in their country and increase methods to clean up the current pollutation in the air.\n",
    "\n",
    "It may also influence companies to invest more into cleaner production as to improve their image."
   ]
  },
  {
   "cell_type": "code",
   "execution_count": 15,
   "metadata": {},
   "outputs": [],
   "source": [
    "import plotly.plotly as py\n",
    "import plotly.graph_objs as go\n",
    "import plotly.figure_factory as FF\n",
    "\n",
    "import numpy as np\n",
    "import pandas as pd\n",
    "\n",
    "from plotly.plotly import iplot\n",
    "\n",
    "chicagoCrimePath = 'https://raw.githubusercontent.com/DeclanCarter/DataScience/master/CrimeStatsChicagoc1.csv'\n",
    "laCrimePath = 'https://raw.githubusercontent.com/DeclanCarter/DataScience/master/CrimeStatsLAc1.csv'\n",
    "nyCrimePath = 'https://raw.githubusercontent.com/DeclanCarter/DataScience/master/CrimeStatsNYc1.csv'\n",
    "\n",
    "chicagoCrimePathRead = pd.read_csv(chicagoCrimePath)\n"
   ]
  },
  {
   "cell_type": "markdown",
   "metadata": {},
   "source": [
    "<h1>The Crime Statistics</h1>\n",
    "\n",
    "Crime is a very general term and can mean a wide range of acts. In this notebook we are going to break down and focus on certain types of crimes. The crimes we are looking can be split into two categories, violet crime and property crime.\n",
    "\n",
    "<h2>Violet crime:</h2>\n",
    "Crimes considered violet are murder and nonnegligent manslaughter, rape, robbery and aggravted assault.\n",
    "\n",
    "<h2>Property Crime</h2>\n",
    "Crimes considered property crimes are burglary, larceny-theft, motor vehicle theft."
   ]
  },
  {
   "cell_type": "markdown",
   "metadata": {},
   "source": [
    "<h2>Cleaning Up Data</h2>\n",
    "\n",
    "Within the dataset rape is split into two types, legacy rape and revised rape. The difference is when the law around rape was revised in 2014 and the law was changed. Removing this column as our data is for the period of 1985 to 2010. Other columns like months that contain irrelative data, giving the number of months in the year. The orginal dataset was designed to fit a excel sheet, it contained information in cells explaining the dataset but this caused issues when importing the file as the code could not recognised the columns correctly. Removing the unnessary cells and realigning the dataset it.\n",
    "\n",
    "Reviewing the data to remove any dirty data that may persist in the dataset. We did this by checking all unqiue values within the dataset to insure that the dataset on the surface looked correct and from reviewing the data we removed any outliers. \n",
    "\n",
    "Following code is the methods used to simply check the values in the dataset and check for any abnormalities. \n"
   ]
  },
  {
   "cell_type": "code",
   "execution_count": 23,
   "metadata": {},
   "outputs": [
    {
     "name": "stdout",
     "output_type": "stream",
     "text": [
      "[16482.3 17257.7 16039.  17265.2 17575.7 19282.2 19547.7 17929.6 17591.7\n",
      " 17314.3 16945.1 16443.1 16279.4 15946.6 14398.3 12944.8 11919.7 11516.1\n",
      " 11279.8 10972.6 10326.4 10260.1 10122.  10472.5  9579.8  9960.5]\n"
     ]
    }
   ],
   "source": [
    "Uni = chicagoCrimePathRead['Violent Crime rate'].unique()\n",
    "Mini = chicagoCrimePathRead['Robbery'].min()\n",
    "Maxi = chicagoCrimePathRead['Murder and nonnegligent manslaughter rate'].max()\n",
    "print(Uni)"
   ]
  },
  {
   "cell_type": "code",
   "execution_count": 24,
   "metadata": {},
   "outputs": [
    {
     "name": "stdout",
     "output_type": "stream",
     "text": [
      "14213\n"
     ]
    }
   ],
   "source": [
    "print(Mini)"
   ]
  },
  {
   "cell_type": "code",
   "execution_count": 25,
   "metadata": {},
   "outputs": [
    {
     "name": "stdout",
     "output_type": "stream",
     "text": [
      "33.1\n"
     ]
    }
   ],
   "source": [
    "print(Maxi)"
   ]
  },
  {
   "cell_type": "markdown",
   "metadata": {},
   "source": [
    "Mapping the data with plotly"
   ]
  },
  {
   "cell_type": "code",
   "execution_count": 2,
   "metadata": {},
   "outputs": [
    {
     "name": "stderr",
     "output_type": "stream",
     "text": [
      "/home/dec/data_project/data_project_env/lib/python3.6/site-packages/IPython/core/display.py:689: UserWarning:\n",
      "\n",
      "Consider using IPython.display.IFrame instead\n",
      "\n"
     ]
    },
    {
     "data": {
      "text/html": [
       "<iframe id=\"igraph\" scrolling=\"no\" style=\"border:none;\" seamless=\"seamless\" src=\"https://plot.ly/~Rayo117/39.embed\" height=\"525px\" width=\"100%\"></iframe>"
      ],
      "text/plain": [
       "<plotly.tools.PlotlyDisplay object>"
      ]
     },
     "execution_count": 2,
     "metadata": {},
     "output_type": "execute_result"
    }
   ],
   "source": [
    "df = pd.read_csv(chicagoCrimePath)\n",
    "\n",
    "trace1 = go.Scatter(\n",
    "        x = df['Year'],\n",
    "        y = df['Robbery rate'],\n",
    "        name='Robbery rate per 100,000 in Chicago')\n",
    "\n",
    "trace2 = go.Scatter(\n",
    "        x = df['Year'],\n",
    "        y = df['Aggravated assault rate'],\n",
    "        name='Aggravated assault rate per 100,000 in Chicago')  \n",
    "    \n",
    "trace3 = go.Scatter(\n",
    "        x = df['Year'],\n",
    "        y = df['Property crime rate'],\n",
    "        name='Property crime rate per 100,000 in Chicago')  \n",
    "    \n",
    "trace4 = go.Scatter(\n",
    "        x = df['Year'],\n",
    "        y = df['Burglary rate'],\n",
    "        name='Burglary rate per 100,000 in Chicago') \n",
    "    \n",
    "trace5 = go.Scatter(\n",
    "        x = df['Year'],\n",
    "        y = df['Larceny-theft rate'],\n",
    "        name='Larceny-theft rate per 100,000 in Chicago') \n",
    "    \n",
    "trace6 = go.Scatter(\n",
    "        x = df['Year'],\n",
    "        y = df['Motor vehicle theft rate'],\n",
    "        name='Motor vehicle theft rate per 100,000 in Chicago')  \n",
    "    \n",
    "layout = go.Layout(title='Crime rates in Chicago (From 1985 to 2010)',\n",
    "                   plot_bgcolor='rgb(230, 230,230)', \n",
    "                   showlegend=True)\n",
    "fig = go.Figure(data=[trace1,trace2,trace3,trace4,trace5,trace6], layout=layout)\n",
    "\n",
    "py.iplot(fig, filename='ChicagoCrime')"
   ]
  },
  {
   "cell_type": "code",
   "execution_count": 3,
   "metadata": {},
   "outputs": [
    {
     "data": {
      "text/html": [
       "<iframe id=\"igraph\" scrolling=\"no\" style=\"border:none;\" seamless=\"seamless\" src=\"https://plot.ly/~Rayo117/41.embed\" height=\"525px\" width=\"100%\"></iframe>"
      ],
      "text/plain": [
       "<plotly.tools.PlotlyDisplay object>"
      ]
     },
     "execution_count": 3,
     "metadata": {},
     "output_type": "execute_result"
    }
   ],
   "source": [
    "\n",
    "df = pd.read_csv(laCrimePath)\n",
    "\n",
    "trace1 = go.Scatter(\n",
    "        x = df['Year'],\n",
    "        y = df['Robbery rate'],\n",
    "        name='Robbery rate per 100,000 in LA')\n",
    "\n",
    "trace2 = go.Scatter(\n",
    "        x = df['Year'],\n",
    "        y = df['Aggravated assault rate'],\n",
    "        name='Aggravated assault rate per 100,000 in LA')  \n",
    "    \n",
    "trace3 = go.Scatter(\n",
    "        x = df['Year'],\n",
    "        y = df['Property crime rate'],\n",
    "        name='Property crime rate per 100,000 in LA')  \n",
    "    \n",
    "trace4 = go.Scatter(\n",
    "        x = df['Year'],\n",
    "        y = df['Burglary rate'],\n",
    "        name='Burglary rate per 100,000 in LA') \n",
    "    \n",
    "trace5 = go.Scatter(\n",
    "        x = df['Year'],\n",
    "        y = df['Larceny-theft rate'],\n",
    "        name='Larceny-theft rate per 100,000 in LA') \n",
    "    \n",
    "trace6 = go.Scatter(\n",
    "        x = df['Year'],\n",
    "        y = df['Motor vehicle theft rate'],\n",
    "        name='Motor vehicle theft rate per 100,000 in LA')  \n",
    "    \n",
    "layout = go.Layout(title='Crime rates in LA (From 1985 to 2010)',\n",
    "                   plot_bgcolor='rgb(230, 230,230)', \n",
    "                   showlegend=True)\n",
    "fig = go.Figure(data=[trace1,trace2,trace3,trace4,trace5,trace6], layout=layout)\n",
    "\n",
    "py.iplot(fig, filename='laCrime')"
   ]
  },
  {
   "cell_type": "code",
   "execution_count": 4,
   "metadata": {},
   "outputs": [
    {
     "data": {
      "text/html": [
       "<iframe id=\"igraph\" scrolling=\"no\" style=\"border:none;\" seamless=\"seamless\" src=\"https://plot.ly/~Rayo117/43.embed\" height=\"525px\" width=\"100%\"></iframe>"
      ],
      "text/plain": [
       "<plotly.tools.PlotlyDisplay object>"
      ]
     },
     "execution_count": 4,
     "metadata": {},
     "output_type": "execute_result"
    }
   ],
   "source": [
    "nyCrimePath = 'https://raw.githubusercontent.com/DeclanCarter/DataScience/master/CrimeStatsNYc1.csv'\n",
    "df = pd.read_csv(nyCrimePath)\n",
    "\n",
    "trace1 = go.Scatter(\n",
    "        x = df['Year'],\n",
    "        y = df['Robbery rate'],\n",
    "        name='Robbery rate per 100,000 in NY')\n",
    "\n",
    "trace2 = go.Scatter(\n",
    "        x = df['Year'],\n",
    "        y = df['Aggravated assault rate'],\n",
    "        name='Aggravated assault rate per 100,000 in NY')  \n",
    "    \n",
    "trace3 = go.Scatter(\n",
    "        x = df['Year'],\n",
    "        y = df['Property crime rate'],\n",
    "        name='Property crime rate per 100,000 in NY')  \n",
    "    \n",
    "trace4 = go.Scatter(\n",
    "        x = df['Year'],\n",
    "        y = df['Burglary rate'],\n",
    "        name='Burglary rate per 100,000 in NY') \n",
    "    \n",
    "trace5 = go.Scatter(\n",
    "        x = df['Year'],\n",
    "        y = df['Larceny-theft rate'],\n",
    "        name='Larceny-theft rate per 100,000 in NY') \n",
    "    \n",
    "trace6 = go.Scatter(\n",
    "        x = df['Year'],\n",
    "        y = df['Motor vehicle theft rate'],\n",
    "        name='Motor vehicle theft rate per 100,000 in NY')  \n",
    "    \n",
    "layout = go.Layout(title='Crime rates in NY (From 1985 to 2010)',\n",
    "                   plot_bgcolor='rgb(230, 230,230)', \n",
    "                   showlegend=True)\n",
    "fig = go.Figure(data=[trace1,trace2,trace3,trace4,trace5,trace6], layout=layout)\n",
    "\n",
    "py.iplot(fig, filename='nyCrime')"
   ]
  },
  {
   "cell_type": "markdown",
   "metadata": {},
   "source": [
    "<h1>Conclusion</h1>\n",
    "From analysising and graphing the crime data there is a very clear downward trend across all three cities. There is more than a 50% decrease over the period. This is promising as similar trends can be found with the pollutant data. "
   ]
  },
  {
   "cell_type": "markdown",
   "metadata": {},
   "source": [
    "<h1>Expected Output</h1>\n",
    "With these trends we expected to find some correlation between crime rates and some of the pollutants, especially Carbon monoxide. Sulfur Dioxide and PM 2.5m also show promise that a correlation can be found.  \n"
   ]
  }
 ],
 "metadata": {
  "kernelspec": {
   "display_name": "Python 3",
   "language": "python",
   "name": "python3"
  },
  "language_info": {
   "codemirror_mode": {
    "name": "ipython",
    "version": 3
   },
   "file_extension": ".py",
   "mimetype": "text/x-python",
   "name": "python",
   "nbconvert_exporter": "python",
   "pygments_lexer": "ipython3",
   "version": "3.6.7"
  }
 },
 "nbformat": 4,
 "nbformat_minor": 2
}
